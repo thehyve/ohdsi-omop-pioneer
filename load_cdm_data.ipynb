{
 "cells": [
  {
   "cell_type": "markdown",
   "metadata": {},
   "source": [
    "# Adding a new OMOP CDM dataset\n",
    "\n",
    "Follow the steps in this notebook to add a new OMOP CDM dataset and make it available through ATLAS"
   ]
  },
  {
   "cell_type": "code",
   "execution_count": null,
   "metadata": {},
   "outputs": [],
   "source": [
    "import sqlalchemy as sa\n",
    "import getpass"
   ]
  },
  {
   "cell_type": "markdown",
   "metadata": {},
   "source": [
    "## Settings"
   ]
  },
  {
   "cell_type": "markdown",
   "metadata": {},
   "source": [
    "Replace these parameters"
   ]
  },
  {
   "cell_type": "code",
   "execution_count": null,
   "metadata": {},
   "outputs": [],
   "source": [
    "CDM_SCHEMA = ''  # 'erspc'\n",
    "RESULTS_SCHEMA = ''  # 'erspc_results'\n",
    "CDM_DATA_PATH = ''  # '../data/erspc_omop_cdm.sql'"
   ]
  },
  {
   "cell_type": "markdown",
   "metadata": {},
   "source": [
    "# Connect to the db"
   ]
  },
  {
   "cell_type": "code",
   "execution_count": null,
   "metadata": {},
   "outputs": [],
   "source": [
    "server = 'postgresql'\n",
    "port = '5432'\n",
    "db = 'ohdsi'\n",
    "engine = sa.create_engine(f'postgresql://{input(\"User:\")}:{getpass.getpass(\"Password:\")}@{server}:{port}/{db}')"
   ]
  },
  {
   "cell_type": "code",
   "execution_count": null,
   "metadata": {},
   "outputs": [],
   "source": [
    "#sa.inspect(engine).get_schema_names()"
   ]
  },
  {
   "cell_type": "code",
   "execution_count": null,
   "metadata": {},
   "outputs": [],
   "source": [
    "#sa.inspect(engine).get_table_names('erspc_results')"
   ]
  },
  {
   "cell_type": "code",
   "execution_count": null,
   "metadata": {},
   "outputs": [],
   "source": [
    "if CDM_SCHEMA in sa.inspect(engine).get_schema_names():\n",
    "    print('WARNING: the schema already exists. Proceed with care')"
   ]
  },
  {
   "cell_type": "markdown",
   "metadata": {},
   "source": [
    "## Create CDM"
   ]
  },
  {
   "cell_type": "code",
   "execution_count": null,
   "metadata": {},
   "outputs": [],
   "source": [
    "con = engine.connect()"
   ]
  },
  {
   "cell_type": "code",
   "execution_count": null,
   "metadata": {},
   "outputs": [],
   "source": [
    "# con.execute('DROP SCHEMA %s CASCADE;' % CDM_SCHEMA)\n",
    "con.execute('CREATE SCHEMA %s;' % CDM_SCHEMA)"
   ]
  },
  {
   "cell_type": "code",
   "execution_count": null,
   "metadata": {},
   "outputs": [],
   "source": [
    "con.execute('SET search_path TO %s;' % CDM_SCHEMA)\n",
    "with open('pioneer_omop_cdm/OMOP CDM postgresql v6_0_onco_modified ddl.sql') as f_ddl:\n",
    "    con.execute(f_ddl.read())"
   ]
  },
  {
   "cell_type": "markdown",
   "metadata": {},
   "source": [
    "## Load data\n",
    "\n",
    "Manual step: bulk load the delimited text files into the corresponding OMOP tables."
   ]
  },
  {
   "cell_type": "markdown",
   "metadata": {},
   "source": [
    "## Apply constraints, indexes and add vocab views"
   ]
  },
  {
   "cell_type": "code",
   "execution_count": null,
   "metadata": {},
   "outputs": [],
   "source": [
    "con.execute('SET search_path TO %s;' % CDM_SCHEMA)\n",
    "with open('pioneer_omop_cdm/OMOP CDM postgresql v6_0_dev pk indexes.sql') as f_ind:\n",
    "    con.execute(f_ind.read())"
   ]
  },
  {
   "cell_type": "code",
   "execution_count": null,
   "metadata": {},
   "outputs": [],
   "source": [
    "with open('pioneer_omop_cdm/OMOP CDM postgresql v6_0_dev constraints.sql') as f_constr:\n",
    "    con.execute(f_constr.read())"
   ]
  },
  {
   "cell_type": "code",
   "execution_count": null,
   "metadata": {},
   "outputs": [],
   "source": [
    "con.execute('SET search_path TO %s;' % CDM_SCHEMA)\n",
    "with open('other/vocab_view.sql') as f_vocab_view:\n",
    "    con.execute(f_vocab_view.read())"
   ]
  },
  {
   "cell_type": "markdown",
   "metadata": {},
   "source": [
    "## Setup results schema"
   ]
  },
  {
   "cell_type": "code",
   "execution_count": null,
   "metadata": {},
   "outputs": [],
   "source": [
    "con = engine.connect()"
   ]
  },
  {
   "cell_type": "code",
   "execution_count": null,
   "metadata": {},
   "outputs": [],
   "source": [
    "# con.execute('DROP SCHEMA %s CASCADE;' % RESULTS_SCHEMA)\n",
    "con.execute('CREATE SCHEMA %s;' % RESULTS_SCHEMA)"
   ]
  },
  {
   "cell_type": "code",
   "execution_count": null,
   "metadata": {},
   "outputs": [],
   "source": [
    "con.execute('SET search_path TO %s;' % RESULTS_SCHEMA)\n",
    "with open('other/results_ddl_2.9.0.sql') as f_results:\n",
    "    con.execute(sa.text(f_results.read()).execution_options(auto_commit=True))"
   ]
  },
  {
   "cell_type": "code",
   "execution_count": null,
   "metadata": {},
   "outputs": [],
   "source": [
    "con.execute('CREATE OR REPLACE VIEW concept_hierarchy AS (SELECT * FROM vocab.concept_hierarchy);')"
   ]
  },
  {
   "cell_type": "code",
   "execution_count": null,
   "metadata": {},
   "outputs": [],
   "source": [
    "con.close()"
   ]
  },
  {
   "cell_type": "markdown",
   "metadata": {},
   "source": [
    "## Run Achilles (R)"
   ]
  },
  {
   "cell_type": "markdown",
   "metadata": {},
   "source": [
    "Run Achilles R script"
   ]
  },
  {
   "cell_type": "markdown",
   "metadata": {},
   "source": [
    "## Source Daimon"
   ]
  },
  {
   "cell_type": "markdown",
   "metadata": {},
   "source": [
    "_manual step_"
   ]
  },
  {
   "cell_type": "markdown",
   "metadata": {},
   "source": [
    "To add in Atlas->Configuration"
   ]
  },
  {
   "cell_type": "markdown",
   "metadata": {},
   "source": [
    "Note: had to 'Clear Configuration Cash' to make it work. Gettign EntityExsistsErrors before that"
   ]
  },
  {
   "cell_type": "markdown",
   "metadata": {},
   "source": [
    "========================================================"
   ]
  }
 ],
 "metadata": {
  "kernelspec": {
   "display_name": "Python 3",
   "language": "python",
   "name": "python3"
  },
  "language_info": {
   "codemirror_mode": {
    "name": "ipython",
    "version": 3
   },
   "file_extension": ".py",
   "mimetype": "text/x-python",
   "name": "python",
   "nbconvert_exporter": "python",
   "pygments_lexer": "ipython3",
   "version": "3.7.6"
  }
 },
 "nbformat": 4,
 "nbformat_minor": 4
}